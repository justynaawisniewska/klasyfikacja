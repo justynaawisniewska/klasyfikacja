{
 "cells": [
  {
   "cell_type": "code",
   "execution_count": 37,
   "id": "257edf32-16eb-4efc-85ae-9443d2ea5026",
   "metadata": {},
   "outputs": [
    {
     "name": "stdout",
     "output_type": "stream",
     "text": [
      "   CulmenLength  CulmenDepth  FlipperLength  BodyMass  Species\n",
      "0          39.1         18.7          181.0    3750.0        0\n",
      "1          39.5         17.4          186.0    3800.0        0\n",
      "2          40.3         18.0          195.0    3250.0        0\n",
      "3          36.7         19.3          193.0    3450.0        0\n",
      "4          39.3         20.6          190.0    3650.0        0\n"
     ]
    }
   ],
   "source": [
    "import pandas as pd\n",
    "from sklearn.impute import SimpleImputer\n",
    "import numpy\n",
    "\n",
    "data = pd.read_csv('penguins.csv')\n",
    "print(data.head())\n",
    "\n"
   ]
  },
  {
   "cell_type": "code",
   "execution_count": 25,
   "id": "8edd821e-0448-466d-bc3f-edb64cf23bc0",
   "metadata": {
    "scrolled": true
   },
   "outputs": [
    {
     "name": "stdout",
     "output_type": "stream",
     "text": [
      "<class 'pandas.core.frame.DataFrame'>\n",
      "RangeIndex: 343 entries, 0 to 342\n",
      "Data columns (total 5 columns):\n",
      " #   Column         Non-Null Count  Dtype  \n",
      "---  ------         --------------  -----  \n",
      " 0   CulmenLength   342 non-null    float64\n",
      " 1   CulmenDepth    342 non-null    float64\n",
      " 2   FlipperLength  342 non-null    float64\n",
      " 3   BodyMass       342 non-null    float64\n",
      " 4   Species        343 non-null    int64  \n",
      "dtypes: float64(4), int64(1)\n",
      "memory usage: 13.5 KB\n",
      "None\n",
      "Species\n",
      "0    151\n",
      "1    124\n",
      "2     68\n",
      "Name: count, dtype: int64\n",
      "       CulmenLength  CulmenDepth  FlipperLength     BodyMass     Species\n",
      "count    342.000000   342.000000     342.000000   342.000000  343.000000\n",
      "mean      43.921930    17.151170     200.915205  4201.754386    0.758017\n",
      "std        5.459584     1.974793      14.061714   801.954536    0.762643\n",
      "min       32.100000    13.100000     172.000000  2700.000000    0.000000\n",
      "25%       39.225000    15.600000     190.000000  3550.000000    0.000000\n",
      "50%       44.450000    17.300000     197.000000  4050.000000    1.000000\n",
      "75%       48.500000    18.700000     213.000000  4750.000000    1.000000\n",
      "max       59.600000    21.500000     231.000000  6300.000000    2.000000\n"
     ]
    }
   ],
   "source": [
    "print(data.info())\n",
    "print(data['Species'].value_counts())\n",
    "print(data.describe())"
   ]
  },
  {
   "cell_type": "markdown",
   "id": "6a09c247-713c-4b8c-92de-361aebe5629f",
   "metadata": {},
   "source": [
    "Użycie RandomForestClassifier"
   ]
  },
  {
   "cell_type": "code",
   "execution_count": 1,
   "id": "0dd4c3d7-8d34-494d-98a7-b2ebe977c7d8",
   "metadata": {},
   "outputs": [
    {
     "name": "stdout",
     "output_type": "stream",
     "text": [
      "Random Forest Classifier:\n",
      "Accuracy: 0.9710144927536232\n",
      "Classification Report:\n",
      "              precision    recall  f1-score   support\n",
      "\n",
      "           0       1.00      0.94      0.97        32\n",
      "           1       0.96      1.00      0.98        24\n",
      "           2       0.93      1.00      0.96        13\n",
      "\n",
      "    accuracy                           0.97        69\n",
      "   macro avg       0.96      0.98      0.97        69\n",
      "weighted avg       0.97      0.97      0.97        69\n",
      "\n"
     ]
    }
   ],
   "source": [
    "import pandas as pd\n",
    "import numpy as np\n",
    "from sklearn.impute import SimpleImputer\n",
    "from sklearn.model_selection import train_test_split\n",
    "from sklearn.preprocessing import LabelEncoder\n",
    "from sklearn.metrics import accuracy_score, classification_report\n",
    "from sklearn.ensemble import RandomForestClassifier\n",
    "\n",
    "data = pd.read_csv('penguins.csv')\n",
    "\n",
    "X = data.drop('Species', axis=1)\n",
    "y = data['Species']\n",
    "\n",
    "imputer = SimpleImputer(missing_values=np.nan, strategy='mean')\n",
    "X_imputed = imputer.fit_transform(X)\n",
    "\n",
    "label_encoder = LabelEncoder()\n",
    "y_encoded = label_encoder.fit_transform(y)\n",
    "\n",
    "X_train, X_test, y_train, y_test = train_test_split(X_imputed, y_encoded, test_size=0.2, random_state=42)\n",
    "\n",
    "random_forest = RandomForestClassifier(n_estimators=100, random_state=42)\n",
    "random_forest.fit(X_train, y_train)\n",
    "\n",
    "predictions_rf = random_forest.predict(X_test)\n",
    "print(\"Random Forest Classifier:\")\n",
    "print(\"Accuracy:\", accuracy_score(y_test, predictions_rf))\n",
    "\n",
    "y_test_original = label_encoder.inverse_transform(y_test)\n",
    "predictions_rf_original = label_encoder.inverse_transform(predictions_rf)\n",
    "\n",
    "print(\"Classification Report:\")\n",
    "print(classification_report(y_test_original, predictions_rf_original))"
   ]
  },
  {
   "cell_type": "markdown",
   "id": "78d944bb-aed6-43dc-b8df-de8a751d6b71",
   "metadata": {},
   "source": [
    "Uzycie DecisionTreeClassifier"
   ]
  },
  {
   "cell_type": "code",
   "execution_count": 6,
   "id": "3dd3e055-d741-47fc-934a-31c8396bbab0",
   "metadata": {},
   "outputs": [
    {
     "name": "stdout",
     "output_type": "stream",
     "text": [
      "Decision Tree Classifier:\n",
      "Accuracy: 0.9855072463768116\n",
      "Classification Report:\n",
      "              precision    recall  f1-score   support\n",
      "\n",
      "           0       1.00      0.97      0.98        32\n",
      "           1       0.96      1.00      0.98        24\n",
      "           2       1.00      1.00      1.00        13\n",
      "\n",
      "    accuracy                           0.99        69\n",
      "   macro avg       0.99      0.99      0.99        69\n",
      "weighted avg       0.99      0.99      0.99        69\n",
      "\n"
     ]
    }
   ],
   "source": [
    "\n",
    "X = data.drop('Species', axis=1)\n",
    "y = data['Species']\n",
    "\n",
    "imputer = SimpleImputer(missing_values=np.nan, strategy='mean')\n",
    "X_imputed = imputer.fit_transform(X)\n",
    "\n",
    "label_encoder = LabelEncoder()\n",
    "y_encoded = label_encoder.fit_transform(y)\n",
    "\n",
    "X_train, X_test, y_train, y_test = train_test_split(X_imputed, y_encoded, test_size=0.2, random_state=42)\n",
    "\n",
    "decision_tree = DecisionTreeClassifier(random_state=42)\n",
    "decision_tree.fit(X_train, y_train)\n",
    "\n",
    "predictions_dt = decision_tree.predict(X_test)\n",
    "print(\"Decision Tree Classifier:\")\n",
    "print(\"Accuracy:\", accuracy_score(y_test, predictions_dt))\n",
    "\n",
    "y_test_original = label_encoder.inverse_transform(y_test)\n",
    "predictions_dt_original = label_encoder.inverse_transform(predictions_dt)\n",
    "\n",
    "print(\"Classification Report:\")\n",
    "print(classification_report(y_test_original, predictions_dt_original))\n",
    "\n"
   ]
  },
  {
   "cell_type": "markdown",
   "id": "64c4c826-cf0b-4468-9ac8-0872d9b7bb18",
   "metadata": {},
   "source": [
    "Uycie SVM"
   ]
  },
  {
   "cell_type": "code",
   "execution_count": 7,
   "id": "9eb40ed1-eb81-4e01-ac23-d25ed57c68fb",
   "metadata": {},
   "outputs": [
    {
     "name": "stdout",
     "output_type": "stream",
     "text": [
      "SVC Classifier:\n",
      "Accuracy: 0.9855072463768116\n",
      "Classification Report:\n",
      "              precision    recall  f1-score   support\n",
      "\n",
      "           0       1.00      0.97      0.98        32\n",
      "           1       1.00      1.00      1.00        24\n",
      "           2       0.93      1.00      0.96        13\n",
      "\n",
      "    accuracy                           0.99        69\n",
      "   macro avg       0.98      0.99      0.98        69\n",
      "weighted avg       0.99      0.99      0.99        69\n",
      "\n"
     ]
    }
   ],
   "source": [
    "from sklearn.svm import SVC\n",
    "\n",
    "X = data.drop('Species', axis=1)\n",
    "y = data['Species']\n",
    "\n",
    "imputer = SimpleImputer(missing_values=np.nan, strategy='mean')\n",
    "X_imputed = imputer.fit_transform(X)\n",
    "\n",
    "label_encoder = LabelEncoder()\n",
    "y_encoded = label_encoder.fit_transform(y)\n",
    "\n",
    "X_train, X_test, y_train, y_test = train_test_split(X_imputed, y_encoded, test_size=0.2, random_state=42)\n",
    "\n",
    "svm_classifier = SVC(kernel='linear', C=1, random_state=42)\n",
    "svm_classifier.fit(X_train, y_train)\n",
    "\n",
    "predictions_svm = svm_classifier.predict(X_test)\n",
    "print(\"SVC Classifier:\")\n",
    "print(\"Accuracy:\", accuracy_score(y_test, predictions_svm))\n",
    "\n",
    "y_test_original = label_encoder.inverse_transform(y_test)\n",
    "predictions_svm_original = label_encoder.inverse_transform(predictions_svm)\n",
    "\n",
    "print(\"Classification Report:\")\n",
    "print(classification_report(y_test_original, predictions_svm_original))"
   ]
  },
  {
   "cell_type": "code",
   "execution_count": null,
   "id": "880efe68-4d18-45b1-8e2a-ea902b48f12a",
   "metadata": {},
   "outputs": [],
   "source": []
  }
 ],
 "metadata": {
  "kernelspec": {
   "display_name": "Python 3 (ipykernel)",
   "language": "python",
   "name": "python3"
  },
  "language_info": {
   "codemirror_mode": {
    "name": "ipython",
    "version": 3
   },
   "file_extension": ".py",
   "mimetype": "text/x-python",
   "name": "python",
   "nbconvert_exporter": "python",
   "pygments_lexer": "ipython3",
   "version": "3.9.2"
  }
 },
 "nbformat": 4,
 "nbformat_minor": 5
}
